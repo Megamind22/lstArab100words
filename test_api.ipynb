{
 "cells": [
  {
   "cell_type": "code",
   "execution_count": null,
   "id": "b4473f24",
   "metadata": {},
   "outputs": [],
   "source": [
    "import json\n",
    "import requests\n",
    "import cv2 as cv\n",
    "import os\n",
    "from pathlib import Path\n",
    "import urllib3\n",
    "#from filestack import Client\n",
    "\n",
    "url = 'change this part for the api address that appear for you /uploadfiles/'\n",
    "\n",
    "input_data_for_model =  \"video_path\"\n",
    "\n",
    "\n",
    "in_file = open(input_data_for_model, \"rb\") # opening for [r]eading as [b]inary\n",
    "data = in_file.read() # if you only wanted to read 512 bytes, do .read(512)\n",
    "in_file.close()\n",
    "\n",
    "headers={'Content-Type': 'application/octet-stream'}\n",
    "\n",
    "\n",
    "response = requests.post(url, data=data , headers = headers)\n",
    "print(response.text)\n",
    "\n"
   ]
  }
 ],
 "metadata": {
  "kernelspec": {
   "display_name": "Python 3 (ipykernel)",
   "language": "python",
   "name": "python3"
  },
  "language_info": {
   "codemirror_mode": {
    "name": "ipython",
    "version": 3
   },
   "file_extension": ".py",
   "mimetype": "text/x-python",
   "name": "python",
   "nbconvert_exporter": "python",
   "pygments_lexer": "ipython3",
   "version": "3.9.13"
  }
 },
 "nbformat": 4,
 "nbformat_minor": 5
}
